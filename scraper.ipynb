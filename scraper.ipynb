{
 "cells": [
  {
   "cell_type": "markdown",
   "metadata": {},
   "source": [
    "# Scraping Box Office Mojo\n",
    "## Part 1\n",
    "#### Data Collection with Beautiful Soup\n",
    "\n",
    "This is a notebook of functions that will scrape through http://www.boxofficemojo.com. The data collected here will be pickled and used in another file for cleaning and regression analysis. "
   ]
  },
  {
   "cell_type": "code",
   "execution_count": 1,
   "metadata": {
    "ExecuteTime": {
     "end_time": "2018-02-07T03:02:51.618485Z",
     "start_time": "2018-02-07T03:02:50.835255Z"
    },
    "collapsed": true
   },
   "outputs": [],
   "source": [
    "from fake_useragent import UserAgent\n",
    "from bs4 import BeautifulSoup\n",
    "from datetime import datetime\n",
    "from time import sleep\n",
    "import pandas as pd\n",
    "import requests\n",
    "import pprint\n",
    "import pickle\n",
    "import random\n",
    "import re"
   ]
  },
  {
   "cell_type": "code",
   "execution_count": 2,
   "metadata": {
    "ExecuteTime": {
     "end_time": "2018-02-07T03:02:53.108479Z",
     "start_time": "2018-02-07T03:02:53.097097Z"
    },
    "collapsed": true
   },
   "outputs": [],
   "source": [
    "def random_proxy():\n",
    "    \n",
    "    ''' Set a new user-agent and retrieve a random proxy '''\n",
    "\n",
    "    # New agent\n",
    "    headers = {\"User-Agent\" : UserAgent().random}\n",
    "\n",
    "    # Soup the proxy page\n",
    "    proxy_url = \"https://sslproxies.org/\"\n",
    "    response = requests.get(url = proxy_url)\n",
    "    page = response.text\n",
    "    soup = BeautifulSoup(page, \"lxml\")\n",
    "\n",
    "    # Grab a random proxy and port\n",
    "    proxies_table = soup.find(id = 'proxylisttable')\n",
    "    rows = proxies_table.tbody.find_all('tr')\n",
    "    address = random.randint(0, len(rows) - 1)\n",
    "    proxy = rows[address].td.string.strip()\n",
    "    port = rows[address].td.next_sibling.string.strip()\n",
    "    proxies = {'http': 'http://{}:{}'.format(proxy, port)}\n",
    "\n",
    "    return headers, proxies"
   ]
  },
  {
   "cell_type": "code",
   "execution_count": 4,
   "metadata": {
    "ExecuteTime": {
     "end_time": "2018-02-07T03:02:57.031844Z",
     "start_time": "2018-02-07T03:02:57.025204Z"
    },
    "collapsed": true
   },
   "outputs": [],
   "source": [
    "def soupify_year(page, year, headers, proxies):\n",
    "    \n",
    "    ''' Soupify a specified year's movie releases '''\n",
    "    \n",
    "    year_url = 'http://www.boxofficemojo.com/yearly/chart/?page={0}=domestic&yr={1}&p=.htm'.format(page, year) \n",
    "    response = requests.get(url = year_url, headers = headers, proxies = proxies)\n",
    "    page = response.text\n",
    "    soup = BeautifulSoup(page, \"lxml\")\n",
    "    print(\"Status Code: \", response.status_code)\n",
    "    \n",
    "    try:\n",
    "        return soup\n",
    "    except:\n",
    "        # Soup Nazi says:\n",
    "        print(\"No soup for you!\")"
   ]
  },
  {
   "cell_type": "code",
   "execution_count": 5,
   "metadata": {
    "ExecuteTime": {
     "end_time": "2018-02-07T03:02:58.007444Z",
     "start_time": "2018-02-07T03:02:58.001122Z"
    },
    "collapsed": true
   },
   "outputs": [],
   "source": [
    "def soupify_movie(movie_url, headers, proxies):\n",
    "    \n",
    "    ''' Soupify a movie page for traversing '''\n",
    "    \n",
    "    response = requests.get(url = movie_url, headers = headers, proxies = proxies)\n",
    "    page = response.text\n",
    "    soup = BeautifulSoup(page, \"lxml\") \n",
    "    print(\"Status Code: \", response.status_code)\n",
    "    \n",
    "    try: \n",
    "        return soup\n",
    "    except:\n",
    "        # Soup Nazi says:\n",
    "        print(\"No soup for you!\")"
   ]
  },
  {
   "cell_type": "code",
   "execution_count": 6,
   "metadata": {
    "ExecuteTime": {
     "end_time": "2018-02-07T03:02:58.511843Z",
     "start_time": "2018-02-07T03:02:58.496016Z"
    },
    "collapsed": true
   },
   "outputs": [],
   "source": [
    "def link_list(headers, proxies, start=1980, end=2018):\n",
    "    \n",
    "    ''' Collects all the URLs of the movies in a list '''\n",
    "    '''        Yearly Box Office from 1980-2018       '''\n",
    "    '''   All movies will be adjusted for inflation   '''\n",
    "    \n",
    "    link_list = []\n",
    "    idx = 0\n",
    "    for yr in range(start, end+1):\n",
    "        for pg in range(1,8):\n",
    "            try:\n",
    "                soup = soupify_year(page = pg, year = yr, headers = headers, proxies = proxies)\n",
    "                table = soup.find_all(name = 'table')[3]\n",
    "            except:\n",
    "                # New proxy on failure\n",
    "                print(\"Failure occured\")\n",
    "                headers, proxies = random_proxy()\n",
    "                soup = soupify_year(page = pg, year = yr, headers = headers, proxies = proxies)\n",
    "                table = soup.find_all(name = 'table')[3]\n",
    "            \n",
    "            # All movies have an href attribute with the compiled regex\n",
    "            links = table.find_all(href = re.compile('/movies/\\?id='))\n",
    "            for link in links:\n",
    "                    link_list.append('http://www.boxofficemojo.com/{}&adjust_yr=2017&p=.htm'.format(link['href']))\n",
    "            \n",
    "            idx += 1\n",
    "            print(\"Index: \", idx)\n",
    "            \n",
    "    return link_list"
   ]
  },
  {
   "cell_type": "code",
   "execution_count": 7,
   "metadata": {
    "ExecuteTime": {
     "end_time": "2018-02-07T03:02:58.981779Z",
     "start_time": "2018-02-07T03:02:58.952366Z"
    },
    "collapsed": true
   },
   "outputs": [],
   "source": [
    "def traverse_movie(soup):\n",
    "    \n",
    "    ''' Grab features from movie's page '''\n",
    "    ''' Returns:\n",
    "            Title, \n",
    "            Adjusted (2017) total domestic grossing,\n",
    "            Nominal domestic gross,\n",
    "            Nominal worldwide gross,\n",
    "            Release date as datetime object,\n",
    "            Age as of January 31, 2018,\n",
    "            Movie genre,\n",
    "            Runtime in minutes,\n",
    "            MPAA Rating,\n",
    "            Budget (Unadjusted),\n",
    "            #Keanu Reeves as actor,\n",
    "            #Samuel L. Jackson as actor (no minor roles),\n",
    "    '''\n",
    "    \n",
    "    # Title\n",
    "    TITLE = soup.title.text.split('(')[0].strip()\n",
    "    \n",
    "    # Domestic gross adjusted to 2017 dollars\n",
    "    money = movie_value(soup, regex = \"Domestic Total Adj\\. Gross\")\n",
    "    ADJ_GROSS = clean_money(money = money)\n",
    "    \n",
    "    # Try to grab total lifetime grosses (unadjusted) for domestic and worldwide\n",
    "    # Percentages and/or foreign numbers can be conjured in data processing\n",
    "    try:\n",
    "        domestic = domestic_worldwide(soup, regex = \"Domestic:\")\n",
    "        DOMESTIC = clean_money(money = domestic)\n",
    "    except:\n",
    "        DOMESTIC = None\n",
    "        \n",
    "    try:    \n",
    "        worldwide = domestic_worldwide(soup, regex = \"Worldwide:\")\n",
    "        WORLD = clean_money(money = worldwide)\n",
    "    except:\n",
    "        WORLD = None\n",
    "    \n",
    "    # Datetime object of release date & age in days, evaluated January 31, 2018\n",
    "    release_string = movie_value(soup, regex = \"Release Date: \")\n",
    "    RELEASE = datetime.strptime(release_string, '%B %d, %Y')\n",
    "    NOW = datetime(2018, 1, 31)\n",
    "    AGE = NOW - RELEASE\n",
    "    \n",
    "    # Genre\n",
    "    GENRE = movie_value(soup, regex = \"Genre: \")\n",
    "    \n",
    "    # Runtime converted to minutes\n",
    "    runtime_string = movie_value(soup, regex = \"Runtime: \")\n",
    "    RUNTIME = runtime_convert(runtime_string = runtime_string)\n",
    "    \n",
    "    # MPAA Rating\n",
    "    RATING = movie_value(soup, regex = \"MPAA Rating: \")\n",
    "    \n",
    "    # Production budget\n",
    "    budget_string = movie_value(soup, regex = \"Production Budget: \")\n",
    "    BUDGET = budget_convert(budget_string)\n",
    "    \n",
    "    # Keanu Reeves and Samuel L. Jackson effect, no minor roles\n",
    "    #KEANU, SAMUEL = actors(soup = soup)\n",
    "    \n",
    "    \n",
    "    return [TITLE, ADJ_GROSS, DOMESTIC, WORLD, RELEASE, AGE, \n",
    "            GENRE, RUNTIME, RATING, BUDGET]  #, KEANU, SAMUEL]"
   ]
  },
  {
   "cell_type": "code",
   "execution_count": 8,
   "metadata": {
    "ExecuteTime": {
     "end_time": "2018-02-07T03:02:59.631557Z",
     "start_time": "2018-02-07T03:02:59.625469Z"
    },
    "collapsed": true
   },
   "outputs": [],
   "source": [
    "def movie_value(soup, regex):\n",
    "    \n",
    "    ''' Grab a specified value from soups HTML '''\n",
    "    \n",
    "    # RegEx an object, return the text next to that object\n",
    "    # or return none if it doesn't exist\n",
    "    obj = soup.find(text = re.compile(regex, flags = re.IGNORECASE))\n",
    "    if not obj: \n",
    "        return None\n",
    "    \n",
    "    next_sibling = obj.next_sibling\n",
    "    \n",
    "    if next_sibling:\n",
    "        return next_sibling.text \n",
    "    else:\n",
    "        return None"
   ]
  },
  {
   "cell_type": "code",
   "execution_count": 9,
   "metadata": {
    "ExecuteTime": {
     "end_time": "2018-02-07T03:03:00.060876Z",
     "start_time": "2018-02-07T03:03:00.057897Z"
    },
    "collapsed": true
   },
   "outputs": [],
   "source": [
    "def clean_money(money, numbers_pattern = '[^0-9]'):\n",
    "    return int(re.sub(numbers_pattern, '', money))"
   ]
  },
  {
   "cell_type": "code",
   "execution_count": 10,
   "metadata": {
    "ExecuteTime": {
     "end_time": "2018-02-07T03:03:00.462477Z",
     "start_time": "2018-02-07T03:03:00.457436Z"
    },
    "collapsed": true
   },
   "outputs": [],
   "source": [
    "def domestic_worldwide(soup, regex):\n",
    "    \n",
    "    ''' Grab a domestic or worldwide unadjusted lifetime grosses if it exists '''\n",
    "    \n",
    "    # Grab object for clean_money, return none if it doesn't exist\n",
    "    obj = soup.find(text = (re.compile(regex, flags = re.IGNORECASE)))\n",
    "    \n",
    "    if obj:\n",
    "        return obj.parent.find_next('b').text \n",
    "    else:\n",
    "        return None"
   ]
  },
  {
   "cell_type": "code",
   "execution_count": 11,
   "metadata": {
    "ExecuteTime": {
     "end_time": "2018-02-07T03:03:00.912430Z",
     "start_time": "2018-02-07T03:03:00.907761Z"
    },
    "collapsed": true
   },
   "outputs": [],
   "source": [
    "def runtime_convert(runtime_string):\n",
    "    \n",
    "    ''' Converts string of runtime in X hrs. Y mins. to minutes '''\n",
    "    \n",
    "    runtime = runtime_string.split()\n",
    "    try:\n",
    "        minutes = int(runtime[0])*60 + int(runtime[2])\n",
    "        return minutes\n",
    "    except:\n",
    "        return None"
   ]
  },
  {
   "cell_type": "code",
   "execution_count": 12,
   "metadata": {
    "ExecuteTime": {
     "end_time": "2018-02-07T03:03:01.509302Z",
     "start_time": "2018-02-07T03:03:01.504073Z"
    },
    "collapsed": true
   },
   "outputs": [],
   "source": [
    "def budget_convert(budget_string, numbers_pattern = '[^0-9]'):\n",
    "    \n",
    "    ''' Converts string of budget into a monetary value if it exists '''\n",
    "    \n",
    "    if \"million\" in budget_string:\n",
    "        return int(re.sub(numbers_pattern, '', budget_string)) * 1000000\n",
    "    elif \"N/A\" in budget_string:\n",
    "        return None\n",
    "    else:\n",
    "        return int(re.sub(numbers_pattern, '', budget_string))"
   ]
  },
  {
   "cell_type": "code",
   "execution_count": 13,
   "metadata": {
    "ExecuteTime": {
     "end_time": "2018-02-07T03:03:01.985658Z",
     "start_time": "2018-02-07T03:03:01.975904Z"
    },
    "collapsed": true
   },
   "outputs": [],
   "source": [
    "def actors(soup, KEANU = 0, SAMUEL = 0):\n",
    "    \n",
    "    ''' Searches the actors list for Keanue Reeves and Samuel L. Jackson '''\n",
    "    \n",
    "    # This searches for actors field but may be bugged\n",
    "    keanu = re.compile(\"Keanu Reeves(?!\\*)\", flags = re.I)\n",
    "    samuel = re.compile(\"Samuel L\\. Jackson(?!\\*)\", flags = re.I)\n",
    "    try:\n",
    "        actors = soup.find(text = re.compile(\"Actors:\",flags = re.IGNORECASE))\n",
    "        print(actors)\n",
    "    except:\n",
    "        return (KEANU, SAMUEL)\n",
    "    if actors != None:\n",
    "        actors = actors.next.text\n",
    "        if keanu.search(actors):\n",
    "            KEANU = 1\n",
    "        if samuel.search(actors):\n",
    "            SAMUEL = 1\n",
    "    return KEANU, SAMUEL"
   ]
  },
  {
   "cell_type": "code",
   "execution_count": 14,
   "metadata": {
    "ExecuteTime": {
     "end_time": "2018-02-07T03:03:02.831028Z",
     "start_time": "2018-02-07T03:03:02.824418Z"
    },
    "collapsed": true
   },
   "outputs": [],
   "source": [
    "def scrape(soup, movie, headers, proxies):\n",
    "    \n",
    "    ''' Soupify, traverse, if something fails, wait a few, reset proxy and retry '''\n",
    "    \n",
    "    try:\n",
    "        return traverse_movie(soup) \n",
    "        \n",
    "    except:\n",
    "        print(\"No soup for you! @ \", IDX)\n",
    "        print(\"... zZz .. (ー。ー) .. zZz ...\")\n",
    "        sleep(1 + 5*random.random())\n",
    "        headers, proxies = random_proxy()\n",
    "        print(headers, proxies)\n",
    "        scrape(soup, movie, headers, proxies)"
   ]
  },
  {
   "cell_type": "code",
   "execution_count": 15,
   "metadata": {
    "ExecuteTime": {
     "end_time": "2018-02-07T03:03:22.673343Z",
     "start_time": "2018-02-07T03:03:22.667142Z"
    }
   },
   "outputs": [
    {
     "name": "stdout",
     "output_type": "stream",
     "text": [
      "{'User-Agent': 'Mozilla/5.0 (Windows NT 6.2; Win64; x64) AppleWebKit/537.36 (KHTML, like Gecko) Chrome/32.0.1667.0 Safari/537.36'} {'http': 'http://144.217.213.226:80'}\n",
      "CPU times: user 4 µs, sys: 1e+03 ns, total: 5 µs\n",
      "Wall time: 9.06 µs\n"
     ]
    }
   ],
   "source": [
    "# (☞ ͡° ͜ʖ ͡°)☞  Time to SCRAPE\n",
    "\n",
    "# Initiate the random agent and proxy\n",
    "headers, proxies = random_proxy()\n",
    "print(headers, proxies)\n",
    "\n",
    "# Get a list of all the movie urls\n",
    "movies = link_list(headers = headers, proxies = proxies)\n",
    "%time"
   ]
  },
  {
   "cell_type": "code",
   "execution_count": null,
   "metadata": {
    "collapsed": true,
    "scrolled": false
   },
   "outputs": [],
   "source": [
    "# Without a function that looks for the page numbers, we kept grabbing proxies?\n",
    "# Slow to run, pickle list and continue\n",
    "\n",
    "# Check for duplicates just in case =)\n",
    "print(\"Movies: \", len(movies), \"=\", len(set(movies)))\n",
    "\n",
    "# Check first 3 and last 3 movies\n",
    "pprint.pprint(movies[:3])\n",
    "pprint.pprint(movies[-3:])\n",
    "\n",
    "# Pickle the movies_list using the highest protocol available.\n",
    "with open('movies_list.pickle', 'wb') as file:   \n",
    "    pickle.dump(movies, file, pickle.HIGHEST_PROTOCOL)"
   ]
  },
  {
   "cell_type": "code",
   "execution_count": null,
   "metadata": {},
   "outputs": [],
   "source": [
    "#~#~### ༼ つ ◕_◕ ༽つ *Scraping Intensifies* ༼ つ ◕_◕ ༽つ  ###~#~#\n",
    "        \n",
    "# Scrape movies from movie list\n",
    "# DATA is a list of dictionaries for each record\n",
    "# IDX will be used as a counter, different instances should run at different counters\n",
    "DATA = []\n",
    "IDX = 0\n",
    "columns = ['TITLE', 'ADJ_GROSS', 'DOMESTIC', 'WORLD', 'RELEASE', \n",
    "           'AGE', 'GENRE', 'RUNTIME', 'RATING', 'BUDGET', \"IDX\"]\n",
    "\n",
    "# Bring in our pickled list of movie urls\n",
    "with open('movies_list.pickle', 'rb') as file:\n",
    "    movies_list = pickle.load(file)\n",
    "\n",
    "headers, proxies = random_proxy()\n",
    "# Change the splicing if running clones\n",
    "for movie in movies_list[0:]:\n",
    "    print(\"Index: \", IDX)\n",
    "\n",
    "    # Soupify movie and traverse page with scrape()\n",
    "    soup = soupify_movie(movie_url = movie, headers = headers, proxies = proxies)\n",
    "    movie_data = scrape(soup, movie, headers = headers, proxies = proxies)\n",
    "    \n",
    "    movie_data.append(IDX)\n",
    "    diccionario = dict(zip(columns, movie_data))\n",
    "    DATA.append(diccionario)\n",
    "\n",
    "    IDX += 1\n",
    "    \n",
    "# Pickle the data frame created from our DATA list of dictionaries\n",
    "df = pd.DataFrame(DATA)\n",
    "df.to_pickle(path = 'mojo_jojo{}.pickle'.format(IDX))"
   ]
  },
  {
   "cell_type": "code",
   "execution_count": null,
   "metadata": {
    "collapsed": true
   },
   "outputs": [],
   "source": [
    "# If segmenting failed, pickle data\n",
    "print(len(movies_list[0:0]))\n",
    "df = pd.DataFrame(DATA)\n",
    "df.to_pickle(path = 'mojo_jojo_X_XXXX.pickle')"
   ]
  },
  {
   "cell_type": "code",
   "execution_count": null,
   "metadata": {
    "collapsed": true
   },
   "outputs": [],
   "source": [
    "#pprint.pprint(DATA)"
   ]
  }
 ],
 "metadata": {
  "kernelspec": {
   "display_name": "Python 3",
   "language": "python",
   "name": "python3"
  },
  "language_info": {
   "codemirror_mode": {
    "name": "ipython",
    "version": 3
   },
   "file_extension": ".py",
   "mimetype": "text/x-python",
   "name": "python",
   "nbconvert_exporter": "python",
   "pygments_lexer": "ipython3",
   "version": "3.6.4"
  },
  "toc": {
   "nav_menu": {},
   "number_sections": true,
   "sideBar": true,
   "skip_h1_title": false,
   "title_cell": "Table of Contents",
   "title_sidebar": "Contents",
   "toc_cell": false,
   "toc_position": {},
   "toc_section_display": true,
   "toc_window_display": false
  }
 },
 "nbformat": 4,
 "nbformat_minor": 2
}
